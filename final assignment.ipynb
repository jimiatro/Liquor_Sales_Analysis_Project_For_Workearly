{
 "cells": [
  {
   "cell_type": "code",
   "execution_count": 1,
   "id": "c2fb5f7b-eb3c-4c41-9d81-729d5ba6f930",
   "metadata": {},
   "outputs": [],
   "source": [
    "# Import Pandas library\n",
    "import pandas as pd"
   ]
  },
  {
   "cell_type": "code",
   "execution_count": 2,
   "id": "27530289-da74-448b-88c6-d217b8637c50",
   "metadata": {},
   "outputs": [],
   "source": [
    "# Read the excel file into a Pandas DataFrame\n",
    "data = pd.read_excel('sales 2016-2019.xlsx')"
   ]
  },
  {
   "cell_type": "code",
   "execution_count": 3,
   "id": "3189c33e-38e8-4745-a36f-437398a5115b",
   "metadata": {},
   "outputs": [],
   "source": [
    "# The most popular items based on the maximum sale_dollars per zip code\n",
    "popular_items = data.groupby('zip_code')['sale_dollars'].max()"
   ]
  },
  {
   "cell_type": "code",
   "execution_count": 4,
   "id": "9c746dbf-eaf5-49d1-a021-6b9233a7f961",
   "metadata": {},
   "outputs": [],
   "source": [
    "# Total sales across all stores\n",
    "total_sales = data['sale_dollars'].sum()"
   ]
  },
  {
   "cell_type": "code",
   "execution_count": 5,
   "id": "15efdd66-6b04-4925-b896-c36d19824022",
   "metadata": {},
   "outputs": [],
   "source": [
    "# Percentage of sales per store \n",
    "percentage = (data.groupby(['store_number'])['sale_dollars'].sum()/ total_sales) *100"
   ]
  },
  {
   "cell_type": "code",
   "execution_count": 6,
   "id": "bdde5ac0-0701-48bb-92a2-705d9d1580c0",
   "metadata": {},
   "outputs": [],
   "source": [
    "# Average sales per store\n",
    "average_sales = data.groupby(['store_number'])['sale_dollars'].mean()"
   ]
  }
 ],
 "metadata": {
  "kernelspec": {
   "display_name": "Python 3 (ipykernel)",
   "language": "python",
   "name": "python3"
  },
  "language_info": {
   "codemirror_mode": {
    "name": "ipython",
    "version": 3
   },
   "file_extension": ".py",
   "mimetype": "text/x-python",
   "name": "python",
   "nbconvert_exporter": "python",
   "pygments_lexer": "ipython3",
   "version": "3.11.4"
  }
 },
 "nbformat": 4,
 "nbformat_minor": 5
}
